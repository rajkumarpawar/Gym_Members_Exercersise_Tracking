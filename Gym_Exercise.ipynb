{
 "cells": [
  {
   "cell_type": "markdown",
   "metadata": {},
   "source": [
    "\n",
    "\n",
    "This dataset provides a detailed overview of gym members' exercise routines, physical attributes, and fitness metrics. It contains 973 samples of gym data, including key performance indicators such as heart rate, calories burned, and workout duration. Each entry also includes demographic data and experience levels, allowing for comprehensive analysis of fitness patterns, athlete progression, and health trends.\n",
    "\n",
    "Key Features:\n",
    "\n",
    "Age: Age of the gym member.\n",
    "Gender: Gender of the gym member (Male or Female).\n",
    "Weight (kg): Member’s weight in kilograms.\n",
    "Height (m): Member’s height in meters.\n",
    "Max_BPM: Maximum heart rate (beats per minute) during workout sessions.\n",
    "Avg_BPM: Average heart rate during workout sessions.\n",
    "Resting_BPM: Heart rate at rest before workout.\n",
    "Session_Duration (hours): Duration of each workout session in hours.\n",
    "Calories_Burned: Total calories burned during each session.\n",
    "Workout_Type: Type of workout performed (e.g., Cardio, Strength, Yoga, HIIT).\n",
    "Fat_Percentage: Body fat percentage of the member.\n",
    "Water_Intake (liters): Daily water intake during workouts.\n",
    "Workout_Frequency (days/week): Number of workout sessions per week.\n",
    "Experience_Level: Level of experience, from beginner (1) to expert (3).\n",
    "BMI: Body Mass Index, calculated from height and weight.\n",
    "This dataset is ideal for data scientists, health researchers, and fitness enthusiasts interested in studying exercise habits, modeling fitness progression, or analyzing the relationship between demographic and physiological data. With a wide range of variables, it offers insights into how different factors affect workout intensity, endurance, and overall health."
   ]
  },
  {
   "cell_type": "code",
   "execution_count": null,
   "metadata": {},
   "outputs": [],
   "source": [
    "import pandas as pd\n",
    "import numpy as np"
   ]
  },
  {
   "cell_type": "code",
   "execution_count": null,
   "metadata": {},
   "outputs": [],
   "source": [
    "pip install matplotlib\n"
   ]
  },
  {
   "cell_type": "code",
   "execution_count": null,
   "metadata": {},
   "outputs": [],
   "source": [
    "Gym = pd.read_csv(\"D:\\Machine learning projects\\Gym Members\\gym_members_exercise_tracking.csv\")\n",
    "Gym"
   ]
  },
  {
   "cell_type": "code",
   "execution_count": null,
   "metadata": {},
   "outputs": [],
   "source": [
    "Gym.head(10)"
   ]
  },
  {
   "cell_type": "code",
   "execution_count": null,
   "metadata": {},
   "outputs": [],
   "source": [
    "Gym.notnull()"
   ]
  },
  {
   "cell_type": "code",
   "execution_count": null,
   "metadata": {},
   "outputs": [],
   "source": []
  }
 ],
 "metadata": {
  "kernelspec": {
   "display_name": "Python 3",
   "language": "python",
   "name": "python3"
  },
  "language_info": {
   "codemirror_mode": {
    "name": "ipython",
    "version": 3
   },
   "file_extension": ".py",
   "mimetype": "text/x-python",
   "name": "python",
   "nbconvert_exporter": "python",
   "pygments_lexer": "ipython3",
   "version": "3.9.12"
  }
 },
 "nbformat": 4,
 "nbformat_minor": 2
}
